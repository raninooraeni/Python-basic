{
 "cells": [
  {
   "cell_type": "code",
   "execution_count": 1,
   "id": "575d7fa0",
   "metadata": {},
   "outputs": [
    {
     "name": "stdout",
     "output_type": "stream",
     "text": [
      "Requirement already satisfied: kaggle in /Users/stis073/opt/anaconda3/lib/python3.8/site-packages (1.5.12)\r\n",
      "Requirement already satisfied: python-slugify in /Users/stis073/opt/anaconda3/lib/python3.8/site-packages (from kaggle) (5.0.2)\r\n",
      "Requirement already satisfied: tqdm in /Users/stis073/opt/anaconda3/lib/python3.8/site-packages (from kaggle) (4.59.0)\r\n",
      "Requirement already satisfied: requests in /Users/stis073/opt/anaconda3/lib/python3.8/site-packages (from kaggle) (2.25.1)\r\n",
      "Requirement already satisfied: urllib3 in /Users/stis073/opt/anaconda3/lib/python3.8/site-packages (from kaggle) (1.26.4)\r\n",
      "Requirement already satisfied: six>=1.10 in /Users/stis073/opt/anaconda3/lib/python3.8/site-packages (from kaggle) (1.15.0)\r\n",
      "Requirement already satisfied: certifi in /Users/stis073/opt/anaconda3/lib/python3.8/site-packages (from kaggle) (2020.12.5)\r\n",
      "Requirement already satisfied: python-dateutil in /Users/stis073/opt/anaconda3/lib/python3.8/site-packages (from kaggle) (2.8.1)\r\n",
      "Requirement already satisfied: text-unidecode>=1.3 in /Users/stis073/opt/anaconda3/lib/python3.8/site-packages (from python-slugify->kaggle) (1.3)\r\n",
      "Requirement already satisfied: idna<3,>=2.5 in /Users/stis073/opt/anaconda3/lib/python3.8/site-packages (from requests->kaggle) (2.10)\r\n",
      "Requirement already satisfied: chardet<5,>=3.0.2 in /Users/stis073/opt/anaconda3/lib/python3.8/site-packages (from requests->kaggle) (4.0.0)\r\n"
     ]
    }
   ],
   "source": [
    "!pip install kaggle"
   ]
  },
  {
   "cell_type": "code",
   "execution_count": 3,
   "id": "ecc6b718",
   "metadata": {},
   "outputs": [
    {
     "name": "stdout",
     "output_type": "stream",
     "text": [
      "Warning: Your Kaggle API key is readable by other users on this system! To fix this, you can run 'chmod 600 /Users/stis073/.kaggle/kaggle.json'\n",
      "Downloading antarctica-hotpoints-20002021climate-change-nasa.zip to /Users/stis073/dari laptop ACER/_DIGITALENT 2021/modul 6. data understanding\n",
      "  0%|                                                | 0.00/118k [00:00<?, ?B/s]\n",
      "100%|████████████████████████████████████████| 118k/118k [00:00<00:00, 6.13MB/s]\n"
     ]
    }
   ],
   "source": [
    "!kaggle datasets download -d brsdincer/antarctica-hotpoints-20002021climate-change-nasa\n"
   ]
  },
  {
   "cell_type": "code",
   "execution_count": 4,
   "id": "7f3cb0cc",
   "metadata": {},
   "outputs": [
    {
     "name": "stdout",
     "output_type": "stream",
     "text": [
      "Archive:  antarctica-hotpoints-20002021climate-change-nasa.zip\r\n",
      "  inflating: Antarctica_HOTPOINTS_ALL - fire_archive_SV-C2_215720 (1).csv  \r\n"
     ]
    }
   ],
   "source": [
    "!unzip antarctica-hotpoints-20002021climate-change-nasa.zip"
   ]
  },
  {
   "cell_type": "code",
   "execution_count": null,
   "id": "cd3bbd22",
   "metadata": {},
   "outputs": [],
   "source": []
  }
 ],
 "metadata": {
  "kernelspec": {
   "display_name": "Python 3",
   "language": "python",
   "name": "python3"
  },
  "language_info": {
   "codemirror_mode": {
    "name": "ipython",
    "version": 3
   },
   "file_extension": ".py",
   "mimetype": "text/x-python",
   "name": "python",
   "nbconvert_exporter": "python",
   "pygments_lexer": "ipython3",
   "version": "3.8.8"
  }
 },
 "nbformat": 4,
 "nbformat_minor": 5
}
