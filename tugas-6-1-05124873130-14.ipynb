{
 "cells": [
  {
   "cell_type": "code",
   "execution_count": null,
   "id": "b2786601",
   "metadata": {},
   "outputs": [],
   "source": [
    "!pip install kaggle"
   ]
  },
  {
   "cell_type": "code",
   "execution_count": null,
   "id": "8ee23713",
   "metadata": {},
   "outputs": [],
   "source": [
    "#bikin folder .kaggle\n",
    "mkdir ~/.kaggle"
   ]
  },
  {
   "cell_type": "code",
   "execution_count": 22,
   "id": "647d0577",
   "metadata": {},
   "outputs": [
    {
     "ename": "SyntaxError",
     "evalue": "invalid syntax (<ipython-input-22-e435b63405a7>, line 1)",
     "output_type": "error",
     "traceback": [
      "\u001b[0;36m  File \u001b[0;32m\"<ipython-input-22-e435b63405a7>\"\u001b[0;36m, line \u001b[0;32m1\u001b[0m\n\u001b[0;31m    chmod 600 ~/.kaggle/kaggle.json\u001b[0m\n\u001b[0m          ^\u001b[0m\n\u001b[0;31mSyntaxError\u001b[0m\u001b[0;31m:\u001b[0m invalid syntax\n"
     ]
    }
   ],
   "source": [
    "chmod 600 ~/.kaggle/kaggle.json\n",
    "#masih belum bisa dipanggil nih si json"
   ]
  },
  {
   "cell_type": "code",
   "execution_count": 21,
   "id": "9f00e3d2",
   "metadata": {},
   "outputs": [
    {
     "ename": "SyntaxError",
     "evalue": "invalid syntax (<ipython-input-21-03181e71b353>, line 1)",
     "output_type": "error",
     "traceback": [
      "\u001b[0;36m  File \u001b[0;32m\"<ipython-input-21-03181e71b353>\"\u001b[0;36m, line \u001b[0;32m1\u001b[0m\n\u001b[0;31m    kaggle competitions list\u001b[0m\n\u001b[0m           ^\u001b[0m\n\u001b[0;31mSyntaxError\u001b[0m\u001b[0;31m:\u001b[0m invalid syntax\n"
     ]
    }
   ],
   "source": [
    "kaggle competitions list\n",
    "#kita cek kenpa ko masih g jalan kagglenya"
   ]
  },
  {
   "cell_type": "code",
   "execution_count": null,
   "id": "a66cb283",
   "metadata": {},
   "outputs": [],
   "source": [
    "#untuk cari lokasi kaggle coba uninstal kaggle untk \n",
    "#melihat pesan warningnya saja (tapi jangan diuinstall)pip uninstall kaggle\n",
    "!pip uninstall kaggle"
   ]
  },
  {
   "cell_type": "code",
   "execution_count": null,
   "id": "039675d3",
   "metadata": {},
   "outputs": [],
   "source": [
    "~/Users/stis073/opt/anaconda3/bin/kaggle competitions list"
   ]
  },
  {
   "cell_type": "code",
   "execution_count": null,
   "id": "439fdc34",
   "metadata": {},
   "outputs": [],
   "source": [
    "#cek lagi kagglenya\n",
    "!kaggle datasets list kaggle datasets download -d shreyanshkhandelwal/goal-dataset-top-5-european-leagues"
   ]
  },
  {
   "cell_type": "code",
   "execution_count": null,
   "id": "1f0b30da",
   "metadata": {},
   "outputs": [],
   "source": [
    "!kaggle datasets download -d shreyanshkhandelwal/goal-dataset-top-5-european-leagues"
   ]
  },
  {
   "cell_type": "code",
   "execution_count": null,
   "id": "ea180c31",
   "metadata": {},
   "outputs": [],
   "source": [
    "request.get(\"http://data.bandung.go.id/api/3/action/package_list\")"
   ]
  },
  {
   "cell_type": "code",
   "execution_count": null,
   "id": "5f13fdf3",
   "metadata": {},
   "outputs": [],
   "source": []
  }
 ],
 "metadata": {
  "kernelspec": {
   "display_name": "Python 3",
   "language": "python",
   "name": "python3"
  },
  "language_info": {
   "codemirror_mode": {
    "name": "ipython",
    "version": 3
   },
   "file_extension": ".py",
   "mimetype": "text/x-python",
   "name": "python",
   "nbconvert_exporter": "python",
   "pygments_lexer": "ipython3",
   "version": "3.8.8"
  }
 },
 "nbformat": 4,
 "nbformat_minor": 5
}
