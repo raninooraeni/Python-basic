{
 "cells": [
  {
   "cell_type": "code",
   "execution_count": 1,
   "id": "e486f1ce",
   "metadata": {},
   "outputs": [
    {
     "name": "stdout",
     "output_type": "stream",
     "text": [
      "Requirement already satisfied: kaggle in /Users/stis073/opt/anaconda3/lib/python3.8/site-packages (1.5.12)\n",
      "Requirement already satisfied: python-slugify in /Users/stis073/opt/anaconda3/lib/python3.8/site-packages (from kaggle) (5.0.2)\n",
      "Requirement already satisfied: certifi in /Users/stis073/opt/anaconda3/lib/python3.8/site-packages (from kaggle) (2020.12.5)\n",
      "Requirement already satisfied: python-dateutil in /Users/stis073/opt/anaconda3/lib/python3.8/site-packages (from kaggle) (2.8.1)\n",
      "Requirement already satisfied: tqdm in /Users/stis073/opt/anaconda3/lib/python3.8/site-packages (from kaggle) (4.59.0)\n",
      "Requirement already satisfied: six>=1.10 in /Users/stis073/opt/anaconda3/lib/python3.8/site-packages (from kaggle) (1.15.0)\n",
      "Requirement already satisfied: urllib3 in /Users/stis073/opt/anaconda3/lib/python3.8/site-packages (from kaggle) (1.26.4)\n",
      "Requirement already satisfied: requests in /Users/stis073/opt/anaconda3/lib/python3.8/site-packages (from kaggle) (2.25.1)\n",
      "Requirement already satisfied: text-unidecode>=1.3 in /Users/stis073/opt/anaconda3/lib/python3.8/site-packages (from python-slugify->kaggle) (1.3)\n",
      "Requirement already satisfied: idna<3,>=2.5 in /Users/stis073/opt/anaconda3/lib/python3.8/site-packages (from requests->kaggle) (2.10)\n",
      "Requirement already satisfied: chardet<5,>=3.0.2 in /Users/stis073/opt/anaconda3/lib/python3.8/site-packages (from requests->kaggle) (4.0.0)\n"
     ]
    }
   ],
   "source": [
    "!pip install kaggle"
   ]
  },
  {
   "cell_type": "code",
   "execution_count": 2,
   "id": "a478d658",
   "metadata": {},
   "outputs": [
    {
     "name": "stdout",
     "output_type": "stream",
     "text": [
      "Warning: Your Kaggle API key is readable by other users on this system! To fix this, you can run 'chmod 600 /Users/stis073/.kaggle/kaggle.json'\n",
      "ref                                                  deadline             category            reward  teamCount  userHasEntered  \n",
      "---------------------------------------------------  -------------------  ---------------  ---------  ---------  --------------  \n",
      "contradictory-my-dear-watson                         2030-07-01 23:59:00  Getting Started     Prizes         61           False  \n",
      "gan-getting-started                                  2030-07-01 23:59:00  Getting Started     Prizes        139           False  \n",
      "tpu-getting-started                                  2030-06-03 23:59:00  Getting Started  Knowledge        189           False  \n",
      "digit-recognizer                                     2030-01-01 00:00:00  Getting Started  Knowledge       1579           False  \n",
      "titanic                                              2030-01-01 00:00:00  Getting Started  Knowledge      49944           False  \n",
      "house-prices-advanced-regression-techniques          2030-01-01 00:00:00  Getting Started  Knowledge       4537           False  \n",
      "connectx                                             2030-01-01 00:00:00  Getting Started  Knowledge        273           False  \n",
      "nlp-getting-started                                  2030-01-01 00:00:00  Getting Started  Knowledge        919           False  \n",
      "competitive-data-science-predict-future-sales        2022-12-31 23:59:00  Playground           Kudos      12365           False  \n",
      "lux-ai-2021                                          2021-12-06 23:59:00  Featured           $10,000         85           False  \n",
      "chaii-hindi-and-tamil-question-answering             2021-11-15 23:59:00  Research           $10,000        183           False  \n",
      "nfl-health-and-safety-helmet-assignment              2021-11-02 23:59:00  Featured          $100,000         86           False  \n",
      "rsna-miccai-brain-tumor-radiogenomic-classification  2021-10-15 23:59:00  Featured           $30,000        745           False  \n",
      "landmark-retrieval-2021                              2021-10-01 23:59:00  Research              Swag         16           False  \n",
      "landmark-recognition-2021                            2021-10-01 23:59:00  Research              Swag         45           False  \n",
      "learnplatform-covid19-impact-on-digital-learning     2021-09-30 23:59:00  Analytics          $20,000          0           False  \n",
      "g2net-gravitational-wave-detection                   2021-09-29 23:59:00  Research           $15,000        722           False  \n",
      "optiver-realized-volatility-prediction               2021-09-27 23:59:00  Featured          $100,000       2426           False  \n",
      "mlb-player-digital-engagement-forecasting            2021-09-15 23:59:00  Featured           $50,000        852           False  \n",
      "tabular-playground-series-aug-2021                   2021-08-31 23:59:00  Playground            Swag       1358           False  \n"
     ]
    }
   ],
   "source": [
    "!kaggle competitions list"
   ]
  },
  {
   "cell_type": "code",
   "execution_count": 3,
   "id": "20e42559",
   "metadata": {},
   "outputs": [
    {
     "name": "stdout",
     "output_type": "stream",
     "text": [
      "Warning: Your Kaggle API key is readable by other users on this system! To fix this, you can run 'chmod 600 /Users/stis073/.kaggle/kaggle.json'\n",
      "Downloading goal-dataset-top-5-european-leagues.zip to /Users/stis073/dari laptop ACER/_DIGITALENT 2021/modul 6. data understanding\n",
      "  0%|                                                | 0.00/174k [00:00<?, ?B/s]\n",
      "100%|████████████████████████████████████████| 174k/174k [00:00<00:00, 8.21MB/s]\n"
     ]
    }
   ],
   "source": [
    "!kaggle datasets download -d shreyanshkhandelwal/goal-dataset-top-5-european-leagues"
   ]
  },
  {
   "cell_type": "code",
   "execution_count": null,
   "id": "b5969f9b",
   "metadata": {},
   "outputs": [],
   "source": [
    "!unzip goal-dataset-top-5-european-leagues.zip"
   ]
  },
  {
   "cell_type": "code",
   "execution_count": null,
   "id": "0bffb6a0",
   "metadata": {},
   "outputs": [],
   "source": []
  }
 ],
 "metadata": {
  "kernelspec": {
   "display_name": "Python 3",
   "language": "python",
   "name": "python3"
  },
  "language_info": {
   "codemirror_mode": {
    "name": "ipython",
    "version": 3
   },
   "file_extension": ".py",
   "mimetype": "text/x-python",
   "name": "python",
   "nbconvert_exporter": "python",
   "pygments_lexer": "ipython3",
   "version": "3.8.8"
  }
 },
 "nbformat": 4,
 "nbformat_minor": 5
}
